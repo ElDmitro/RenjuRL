{
 "cells": [
  {
   "cell_type": "code",
   "execution_count": 1,
   "metadata": {},
   "outputs": [],
   "source": [
    "import numpy as np"
   ]
  },
  {
   "cell_type": "code",
   "execution_count": 11,
   "metadata": {},
   "outputs": [],
   "source": [
    "from renjuRL_DK.AI.brain import PinkyBrains"
   ]
  },
  {
   "cell_type": "code",
   "execution_count": 18,
   "metadata": {},
   "outputs": [],
   "source": [
    "from renjuRL_DK.renju_game.brains.BoardManager import X_MAPPING, Y_MAPPING"
   ]
  },
  {
   "cell_type": "code",
   "execution_count": 19,
   "metadata": {},
   "outputs": [],
   "source": [
    "def move2cord(move):\n",
    "    if move == '--':\n",
    "        return 15, 0\n",
    "    \n",
    "    move = (move[0], move[1:])\n",
    "    x = X_MAPPING[move[1]]\n",
    "    y = Y_MAPPING[move[0]]\n",
    "    \n",
    "    return x, y"
   ]
  },
  {
   "cell_type": "code",
   "execution_count": null,
   "metadata": {},
   "outputs": [
    {
     "name": "stdout",
     "output_type": "stream",
     "text": [
      "\n",
      "o15\n",
      "a15\n",
      "o14\n",
      "a14\n",
      "o13\n",
      "a13\n",
      "a12\n",
      "a11\n",
      "c13\n"
     ]
    }
   ],
   "source": [
    "my_uid = 0\n",
    "opponent_uid = 0\n",
    "board = np.zeros((15, 15))\n",
    "model = None\n",
    "while True:\n",
    "    board_list = input().split()\n",
    "    \n",
    "    if not my_uid:\n",
    "        my_uid = -1\n",
    "        opponent_uid = 1\n",
    "        if board_list == []:\n",
    "            my_uid = 1\n",
    "            opponent_uid = -1\n",
    "            \n",
    "        model = PinkyBrains(my_uid)\n",
    "            \n",
    "    if board_list != []:\n",
    "        x, y = move2cord(board_list[-1])\n",
    "        board[x, y] = opponent_uid\n",
    "        \n",
    "    my_move = model.put2any(board)['args']\n",
    "    my_move = my_move[0] + my_move[1]\n",
    "    x, y = move2cord(my_move)\n",
    "    board[x, y] = my_uid\n",
    "    print(my_move, end='\\n')"
   ]
  },
  {
   "cell_type": "code",
   "execution_count": 13,
   "metadata": {},
   "outputs": [],
   "source": [
    "l = ['h', '10']"
   ]
  },
  {
   "cell_type": "code",
   "execution_count": 15,
   "metadata": {},
   "outputs": [
    {
     "data": {
      "text/plain": [
       "'h10'"
      ]
     },
     "execution_count": 15,
     "metadata": {},
     "output_type": "execute_result"
    }
   ],
   "source": [
    "l[0] + l[1]"
   ]
  },
  {
   "cell_type": "code",
   "execution_count": null,
   "metadata": {},
   "outputs": [],
   "source": []
  }
 ],
 "metadata": {
  "kernelspec": {
   "display_name": "Python 3",
   "language": "python",
   "name": "python3"
  },
  "language_info": {
   "codemirror_mode": {
    "name": "ipython",
    "version": 3
   },
   "file_extension": ".py",
   "mimetype": "text/x-python",
   "name": "python",
   "nbconvert_exporter": "python",
   "pygments_lexer": "ipython3",
   "version": "3.7.1"
  }
 },
 "nbformat": 4,
 "nbformat_minor": 2
}
